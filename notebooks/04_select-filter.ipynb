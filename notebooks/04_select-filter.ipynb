{
 "cells": [
  {
   "attachments": {},
   "cell_type": "markdown",
   "metadata": {},
   "source": [
    "### Selecting and Filtering data\n",
    "- Selecting columns\n",
    "- Selecting based on logical operators\n",
    "- Aliasing columns\n",
    "- Filters"
   ]
  },
  {
   "cell_type": "code",
   "execution_count": null,
   "metadata": {},
   "outputs": [],
   "source": [
    "#Imports and load data\n",
    "from pyspark.sql import SparkSession\n",
    "from pyspark.sql.functions import * # Needed for Filters like When, Like etc.\n",
    "\n",
    "spark = SparkSession.builder.appName(\"penguins\").master(\"local[4]\").getOrCreate()\n",
    "df_penguins = spark.read.csv(\"data/penguins.csv\",header=True,inferSchema=True)\n",
    "spark.sparkContext.setLogLevel(\"ERROR\")"
   ]
  },
  {
   "cell_type": "code",
   "execution_count": null,
   "metadata": {},
   "outputs": [],
   "source": [
    "#Select a few columns\n",
    "df_penguins.select(\"island\",\"species\").show(3)"
   ]
  },
  {
   "cell_type": "code",
   "execution_count": null,
   "metadata": {},
   "outputs": [],
   "source": [
    "#Selecting columns based on condition\n",
    "df_penguins.select(\"species\", \"bill_depth_mm\",when(df_penguins.bill_depth_mm > 18,\"Large\").otherwise(\"Small\")).show(2)\n"
   ]
  },
  {
   "cell_type": "code",
   "execution_count": null,
   "metadata": {},
   "outputs": [],
   "source": [
    "#Select using Like\n",
    "df_penguins.select(\"species\",\"island\",df_penguins.species.like(\"Adelie\")).show(2)\n",
    "\n",
    "#Select using Startswith\n",
    "# df_penguins.select(\"species\",\"island\",df_penguins.species.startswith(\"ad\")).show(2)\n"
   ]
  },
  {
   "cell_type": "code",
   "execution_count": null,
   "metadata": {},
   "outputs": [],
   "source": [
    "#Aliasing columns\n",
    "df_penguins.select(\"island\",df_penguins[\"bill_length_mm\"].alias(\"bl\"),df_penguins[\"bill_depth_mm\"].alias(\"bd\")).show(2)"
   ]
  },
  {
   "cell_type": "code",
   "execution_count": null,
   "metadata": {},
   "outputs": [],
   "source": [
    "#Filter on conditions\n",
    "df_penguins.filter(df_penguins.bill_length_mm > 40).show(2)\n",
    "\n",
    "#Can use multiple conditions (needs to be parentheses)\n",
    "# df_penguins.filter((df_penguins.bill_length_mm > 40) & (df_penguins.bill_depth_mm <= 18)).show(2)\n"
   ]
  },
  {
   "cell_type": "code",
   "execution_count": null,
   "metadata": {},
   "outputs": [],
   "source": []
  }
 ],
 "metadata": {
  "kernelspec": {
   "display_name": "Python 3",
   "language": "python",
   "name": "python3"
  },
  "language_info": {
   "codemirror_mode": {
    "name": "ipython",
    "version": 3
   },
   "file_extension": ".py",
   "mimetype": "text/x-python",
   "name": "python",
   "nbconvert_exporter": "python",
   "pygments_lexer": "ipython3",
   "version": "3.10.6 (main, Nov 14 2022, 16:10:14) [GCC 11.3.0]"
  },
  "orig_nbformat": 4,
  "vscode": {
   "interpreter": {
    "hash": "916dbcbb3f70747c44a77c7bcd40155683ae19c65e1c03b4aa3499c5328201f1"
   }
  }
 },
 "nbformat": 4,
 "nbformat_minor": 2
}
