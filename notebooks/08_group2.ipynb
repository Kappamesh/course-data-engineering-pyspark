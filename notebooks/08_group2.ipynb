{
 "cells": [
  {
   "attachments": {},
   "cell_type": "markdown",
   "metadata": {},
   "source": [
    "### Column Operations\n",
    "- Adding column\n",
    "- Renaming column\n",
    "- Remove column"
   ]
  },
  {
   "cell_type": "markdown",
   "metadata": {},
   "source": []
  },
  {
   "cell_type": "code",
   "execution_count": null,
   "metadata": {},
   "outputs": [],
   "source": [
    "#Imports and load data\n",
    "from pyspark.sql import SparkSession\n",
    "from pyspark.sql import Window as W\n",
    "from pyspark.sql.functions import * # Needed for Filters like When, Like etc.\n",
    "\n",
    "spark = SparkSession.builder.appName(\"penguins\").master(\"local[4]\").getOrCreate()\n",
    "df_penguins = spark.read.csv(\"data/penguins.csv\",header=True,inferSchema=True)\n",
    "spark.sparkContext.setLogLevel(\"ERROR\")"
   ]
  },
  {
   "cell_type": "code",
   "execution_count": null,
   "metadata": {},
   "outputs": [],
   "source": [
    "df_penguins.describe().show()"
   ]
  },
  {
   "cell_type": "code",
   "execution_count": null,
   "metadata": {},
   "outputs": [],
   "source": [
    "#Grouping using groupBy\n",
    "df_penguins.groupBy(\"sex\").count().show()"
   ]
  },
  {
   "cell_type": "code",
   "execution_count": null,
   "metadata": {},
   "outputs": [],
   "source": [
    "#Aggregate on max\n",
    "df_penguins.groupBy(\"sex\").agg(max(\"bill_length_mm\").alias(\"max_BL\")).show()\n",
    "\n",
    "#Can do the same for min, mean, sum"
   ]
  },
  {
   "cell_type": "code",
   "execution_count": null,
   "metadata": {},
   "outputs": [],
   "source": [
    "#Collecting a set per group\n",
    "df_penguins.groupBy(\"island\").agg(collect_set(\"species\").alias(\"set\")).show()"
   ]
  },
  {
   "cell_type": "code",
   "execution_count": null,
   "metadata": {},
   "outputs": [],
   "source": [
    "#Group by percentile on sex using expressions\n",
    "df_penguins.groupby('sex').agg(expr('percentile(body_mass_g, array(0.25))')[0].alias('%25'),\n",
    "                             expr('percentile(body_mass_g, array(0.50))')[0].alias('%50'),\n",
    "                             expr('percentile(body_mass_g, array(0.75))')[0].alias('%75')).show()"
   ]
  },
  {
   "cell_type": "code",
   "execution_count": null,
   "metadata": {},
   "outputs": [],
   "source": [
    "df_penguins.filter(isnull(df_penguins.sex)).show()"
   ]
  },
  {
   "cell_type": "code",
   "execution_count": null,
   "metadata": {},
   "outputs": [],
   "source": [
    "#Windowing on Dataframes to add a index\n",
    "window = W.partitionBy(\"island\",\"species\").orderBy(\"bill_length_mm\")\n",
    "df_penguins = df_penguins.withColumn(\"row\",row_number().over(window))\n",
    "df_penguins.show(6)\n"
   ]
  },
  {
   "cell_type": "code",
   "execution_count": null,
   "metadata": {},
   "outputs": [],
   "source": [
    "values = [(\"a\", 23), (\"b\", 45), (\"c\", 10), (\"d\", 60), (\"e\", 56), (\"f\", 2), (\"g\", 25), (\"h\", 40), (\"j\", 33)]\n",
    "\n",
    "\n",
    "df = spark.createDataFrame(values, [\"name\", \"ages\"])\n",
    "\n",
    "\n",
    "from pyspark.ml.feature import Bucketizer\n",
    "bucketizer = Bucketizer(splits=[ 0, 6, 18, 60, float('Inf') ],inputCol=\"ages\", outputCol=\"buckets\")\n",
    "df_buck = bucketizer.setHandleInvalid(\"keep\").transform(df)\n",
    "\n",
    "df_buck.show()\n"
   ]
  },
  {
   "cell_type": "code",
   "execution_count": null,
   "metadata": {},
   "outputs": [],
   "source": [
    "import numpy as np\n",
    "import pandas as pd\n",
    "import pyspark\n",
    "import os\n",
    "import urllib\n",
    "import sys\n",
    "\n",
    "from pyspark.sql.functions import *\n",
    "from pyspark.ml.classification import *\n",
    "from pyspark.ml.evaluation import *\n",
    "from pyspark.ml.feature import *\n",
    "\n",
    "# start Spark session\n",
    "spark = pyspark.sql.SparkSession.builder.appName('Iris').getOrCreate()\n",
    "\n",
    "\n",
    "# print runtime versions\n",
    "print ('****************')\n",
    "print ('Python version: {}'.format(sys.version))\n",
    "print ('Spark version: {}'.format(spark.version))\n",
    "print ('****************')\n",
    "\n",
    "# load iris.csv into Spark dataframe\n",
    "df_penguins = spark.read.csv(\"data/penguins.csv\", header=True, inferSchema=True)\n",
    "data = df_penguins.select(\"bill_length_mm\",\"bill_depth_mm\",\"flipper_length_mm\",\"body_mass_g\",\"species\")\n",
    "data.show(10)\n",
    "\n",
    "# vectorize all numerical columns into a single feature column\n",
    "feature_cols = data.columns[:-1]\n",
    "assembler = pyspark.ml.feature.VectorAssembler(inputCols=feature_cols, outputCol='features')\n",
    "data = assembler.transform(data)\n",
    "\n",
    "# convert text labels into indices\n",
    "data = data.select(['features', 'species'])\n",
    "label_indexer = pyspark.ml.feature.StringIndexer(inputCol='species', outputCol='label').fit(data)\n",
    "data = label_indexer.transform(data)\n",
    "data.show()\n",
    "\n",
    "# only select the features and label column\n",
    "tmp = data.select(['features', 'label'])\n",
    "print(\"Reading for machine learning\")\n",
    "\n",
    "# use Logistic Regression to train on the training set\n",
    "train, test = data.randomSplit([0.70, 0.30])\n",
    "lr = pyspark.ml.classification.LogisticRegression(regParam=reg)\n",
    "model = lr.fit(train)\n",
    "\n",
    "# predict on the test set\n",
    "prediction = model.transform(test)\n",
    "print(\"Prediction\")\n",
    "prediction.show(10)\n",
    "\n",
    "# evaluate the accuracy of the model using the test set\n",
    "evaluator = pyspark.ml.evaluation.MulticlassClassificationEvaluator(metricName='accuracy')\n",
    "accuracy = evaluator.evaluate(prediction)\n",
    "\n",
    "print()\n",
    "print('#####################################')\n",
    "print('Regularization rate is {}'.format(reg))\n",
    "print(\"Accuracy is {}\".format(accuracy))\n",
    "print('#####################################')\n",
    "print()\n",
    "\n",
    "print('Accuracy', accuracy)"
   ]
  }
 ],
 "metadata": {
  "kernelspec": {
   "display_name": "Python 3",
   "language": "python",
   "name": "python3"
  },
  "language_info": {
   "codemirror_mode": {
    "name": "ipython",
    "version": 3
   },
   "file_extension": ".py",
   "mimetype": "text/x-python",
   "name": "python",
   "nbconvert_exporter": "python",
   "pygments_lexer": "ipython3",
   "version": "3.10.6 (main, Nov 14 2022, 16:10:14) [GCC 11.3.0]"
  },
  "orig_nbformat": 4,
  "vscode": {
   "interpreter": {
    "hash": "916dbcbb3f70747c44a77c7bcd40155683ae19c65e1c03b4aa3499c5328201f1"
   }
  }
 },
 "nbformat": 4,
 "nbformat_minor": 2
}
