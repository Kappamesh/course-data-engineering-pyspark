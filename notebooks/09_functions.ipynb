{
 "cells": [
  {
   "attachments": {},
   "cell_type": "markdown",
   "metadata": {},
   "source": [
    "### Functions\n",
    "- string\n",
    "- numbers\n",
    "- dates"
   ]
  },
  {
   "cell_type": "code",
   "execution_count": 17,
   "metadata": {},
   "outputs": [],
   "source": [
    "#Imports and load data\n",
    "from pyspark.sql import SparkSession\n",
    "from pyspark.sql import Window as W # Needed for windowing operations\n",
    "from pyspark.sql.functions import * # Needed for Filters like When, Like etc.\n",
    "\n",
    "\n",
    "spark = SparkSession.builder.appName(\"functions\").master(\"local[4]\").getOrCreate()\n",
    "df = spark.read.csv(\"data/functions.csv\",header=True,inferSchema=True)\n",
    "spark.sparkContext.setLogLevel(\"ERROR\")"
   ]
  },
  {
   "cell_type": "code",
   "execution_count": 18,
   "metadata": {},
   "outputs": [
    {
     "name": "stdout",
     "output_type": "stream",
     "text": [
      "root\n",
      " |-- string: string (nullable = true)\n",
      " |-- string2: string (nullable = true)\n",
      " |-- integer: integer (nullable = true)\n",
      " |-- float: double (nullable = true)\n",
      " |-- date: integer (nullable = true)\n",
      "\n"
     ]
    }
   ],
   "source": [
    "df.printSchema()"
   ]
  },
  {
   "cell_type": "code",
   "execution_count": 19,
   "metadata": {},
   "outputs": [
    {
     "name": "stdout",
     "output_type": "stream",
     "text": [
      "+------+-------+-------+-----+----+\n",
      "|string|string2|integer|float|date|\n",
      "+------+-------+-------+-----+----+\n",
      "+------+-------+-------+-----+----+\n",
      "\n"
     ]
    }
   ],
   "source": [
    "# Contains - col.contains(string)\n",
    "df.filter(df.string.contains('bla')).show()"
   ]
  },
  {
   "cell_type": "code",
   "execution_count": 20,
   "metadata": {},
   "outputs": [
    {
     "name": "stdout",
     "output_type": "stream",
     "text": [
      "+------+-----------+-------+-----+----------+\n",
      "|string|    string2|integer|float|      date|\n",
      "+------+-----------+-------+-----+----------+\n",
      "|Jorden|van Foreest|    234|  6.3|1673919447|\n",
      "+------+-----------+-------+-----+----------+\n",
      "\n"
     ]
    }
   ],
   "source": [
    "# Starts With / ends with - col.startswith(string)\n",
    "df.filter(df.string.startswith('Jo')).show()\n",
    "# df = df.filter(df.string.endswith('den'))"
   ]
  },
  {
   "cell_type": "code",
   "execution_count": 21,
   "metadata": {},
   "outputs": [
    {
     "name": "stdout",
     "output_type": "stream",
     "text": [
      "+------+-------+-------+-----+----+\n",
      "|string|string2|integer|float|date|\n",
      "+------+-------+-------+-----+----+\n",
      "+------+-------+-------+-----+----+\n",
      "\n"
     ]
    }
   ],
   "source": [
    "# Is Null - col.isNull()\n",
    "df.filter(df.string.isNull()).show()\n",
    "# df.filter(df.string.isNotNull())\n"
   ]
  },
  {
   "cell_type": "code",
   "execution_count": 25,
   "metadata": {},
   "outputs": [
    {
     "name": "stdout",
     "output_type": "stream",
     "text": [
      "+------+-----------+-------+-----+----------+\n",
      "|string|    string2|integer|float|      date|\n",
      "+------+-----------+-------+-----+----------+\n",
      "|Jorden|van Foreest|    234|  6.3|1673919447|\n",
      "+------+-----------+-------+-----+----------+\n",
      "\n"
     ]
    }
   ],
   "source": [
    "#Like - col.like(string_with_sql_wildcards)\n",
    "df.filter(df.string.like('%ord%')).show()\n",
    "\n"
   ]
  },
  {
   "cell_type": "code",
   "execution_count": 27,
   "metadata": {},
   "outputs": [
    {
     "name": "stdout",
     "output_type": "stream",
     "text": [
      "+------+-----------+-------+-----+----------+\n",
      "|string|    string2|integer|float|      date|\n",
      "+------+-----------+-------+-----+----------+\n",
      "|Jorden|van Foreest|    234|  6.3|1673919447|\n",
      "+------+-----------+-------+-----+----------+\n",
      "\n"
     ]
    }
   ],
   "source": [
    "# Regex Like - col.rlike(regex)\n",
    "df.filter(df.string.rlike('[A-Z]*den$')).show()\n"
   ]
  },
  {
   "cell_type": "code",
   "execution_count": 28,
   "metadata": {},
   "outputs": [
    {
     "name": "stdout",
     "output_type": "stream",
     "text": [
      "+------+-----------+-------+-----+----------+\n",
      "|string|    string2|integer|float|      date|\n",
      "+------+-----------+-------+-----+----------+\n",
      "|Jorden|van Foreest|    234|  6.3|1673919447|\n",
      "+------+-----------+-------+-----+----------+\n",
      "\n"
     ]
    }
   ],
   "source": [
    "# Is In List - col.isin(*cols)\n",
    "df.filter(df.string.isin('Jorden', 'Iwan')).show()"
   ]
  },
  {
   "cell_type": "code",
   "execution_count": 31,
   "metadata": {},
   "outputs": [
    {
     "name": "stdout",
     "output_type": "stream",
     "text": [
      "+------+-----------+-------+-----+----------+------------------+\n",
      "|string|    string2|integer|float|      date|            concat|\n",
      "+------+-----------+-------+-----+----------+------------------+\n",
      "|Jorden|van Foreest|    234|  6.3|1673919447|Jorden van Foreest|\n",
      "+------+-----------+-------+-----+----------+------------------+\n",
      "\n"
     ]
    }
   ],
   "source": [
    "# Concatenate - F.concat(*cols)\n",
    "df.withColumn('concat', concat('string', lit(' '), 'string2')).show()"
   ]
  },
  {
   "cell_type": "code",
   "execution_count": 35,
   "metadata": {},
   "outputs": [
    {
     "name": "stdout",
     "output_type": "stream",
     "text": [
      "+------+-----------+-------+-----+----------+-------+\n",
      "|string|    string2|integer|float|      date|rounded|\n",
      "+------+-----------+-------+-----+----------+-------+\n",
      "|Jorden|van Foreest|    234|  6.3|1673919447|    6.0|\n",
      "+------+-----------+-------+-----+----------+-------+\n",
      "\n"
     ]
    }
   ],
   "source": [
    "# Round\n",
    "df.withColumn('rounded', round('float', 0)).show()\n",
    "# df.withColumn('floor', floor('float')).show()\n",
    "# df.withColumn('ciel', ciel('float')).show()\n",
    "\n"
   ]
  },
  {
   "cell_type": "code",
   "execution_count": 36,
   "metadata": {},
   "outputs": [
    {
     "name": "stdout",
     "output_type": "stream",
     "text": [
      "+------+-----------+-------+-----+----------+-----+\n",
      "|string|    string2|integer|float|      date|least|\n",
      "+------+-----------+-------+-----+----------+-----+\n",
      "|Jorden|van Foreest|    234|  6.3|1673919447|  6.3|\n",
      "+------+-----------+-------+-----+----------+-----+\n",
      "\n"
     ]
    }
   ],
   "source": [
    "# Select smallest value out of multiple columns – F.least(*cols)\n",
    "df.withColumn('least', least('integer', 'float')).show()\n",
    "# df.withColumn('greatest', greatest('integer', 'float')).show()\n"
   ]
  }
 ],
 "metadata": {
  "kernelspec": {
   "display_name": "Python 3",
   "language": "python",
   "name": "python3"
  },
  "language_info": {
   "codemirror_mode": {
    "name": "ipython",
    "version": 3
   },
   "file_extension": ".py",
   "mimetype": "text/x-python",
   "name": "python",
   "nbconvert_exporter": "python",
   "pygments_lexer": "ipython3",
   "version": "3.10.6 (main, Nov 14 2022, 16:10:14) [GCC 11.3.0]"
  },
  "orig_nbformat": 4,
  "vscode": {
   "interpreter": {
    "hash": "916dbcbb3f70747c44a77c7bcd40155683ae19c65e1c03b4aa3499c5328201f1"
   }
  }
 },
 "nbformat": 4,
 "nbformat_minor": 2
}
