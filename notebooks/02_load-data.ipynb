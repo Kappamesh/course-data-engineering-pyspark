{
 "cells": [
  {
   "attachments": {},
   "cell_type": "markdown",
   "metadata": {},
   "source": [
    "### Load datasets\n",
    "- Load CSV file\n",
    "- Use Headers\n",
    "- Infer Schema\n",
    "- Set field types\n",
    "- Load JSON file\n",
    "- Load Parquet file\n",
    "- Construct file manually"
   ]
  },
  {
   "cell_type": "markdown",
   "metadata": {},
   "source": []
  },
  {
   "cell_type": "code",
   "execution_count": null,
   "metadata": {},
   "outputs": [],
   "source": [
    "from pyspark.sql import SparkSession\n",
    "from pyspark.sql import types as T\n",
    "spark = SparkSession.builder.appName(\"df\").master(\"local[4]\").getOrCreate()"
   ]
  },
  {
   "cell_type": "code",
   "execution_count": null,
   "metadata": {},
   "outputs": [],
   "source": [
    "#Import CSV\n",
    "df_penguins = spark.read.csv(\"data/penguins.csv\")"
   ]
  },
  {
   "cell_type": "code",
   "execution_count": null,
   "metadata": {},
   "outputs": [],
   "source": [
    "#Show data\n",
    "df_penguins.show(3)"
   ]
  },
  {
   "cell_type": "code",
   "execution_count": null,
   "metadata": {},
   "outputs": [],
   "source": [
    "#Use header\n",
    "df_penguins = spark.read.csv(\"data/penguins.csv\",header=True)\n",
    "df_penguins.show(3)"
   ]
  },
  {
   "cell_type": "code",
   "execution_count": null,
   "metadata": {},
   "outputs": [],
   "source": [
    "#Show schema\n",
    "df_penguins.printSchema()"
   ]
  },
  {
   "cell_type": "code",
   "execution_count": null,
   "metadata": {},
   "outputs": [],
   "source": [
    "#Infer schema\n",
    "df_penguins = spark.read.csv(\"data/penguins.csv\",header=True,inferSchema=True)\n",
    "df_penguins.printSchema()\n"
   ]
  },
  {
   "cell_type": "code",
   "execution_count": null,
   "metadata": {},
   "outputs": [],
   "source": [
    "#Manually set the schema\n",
    "schema = T.StructType(fields=[\n",
    "    T.StructField(\"species\", T.StringType(), True),\n",
    "    T.StructField(\"island\", T.StringType(), True),\n",
    "    T.StructField(\"bill_length_mm\", T.DoubleType(), True),\n",
    "    T.StructField(\"bill_depth_mm\", T.DoubleType(), True),\n",
    "    T.StructField(\"flipper_length_mm\", T.DoubleType(), True),\n",
    "    T.StructField(\"body_mass_g\", T.IntegerType(), True),\n",
    "    T.StructField(\"sex\", T.StringType(), True),\n",
    "])\n",
    "df_penguins = spark.read.csv(\"data/penguins.csv\",header=True,schema=schema)\n",
    "df_penguins.printSchema()\n"
   ]
  },
  {
   "cell_type": "code",
   "execution_count": null,
   "metadata": {},
   "outputs": [],
   "source": [
    "json_df = spark.read.json(\"data/penguins.json\")\n",
    "json_df.printSchema()"
   ]
  },
  {
   "cell_type": "code",
   "execution_count": null,
   "metadata": {},
   "outputs": [],
   "source": [
    "#Read parquet files\n",
    "df_parquet = spark.read.parquet(\"data/penguins.parquet\")\n",
    "df_parquet.printSchema()"
   ]
  },
  {
   "cell_type": "code",
   "execution_count": null,
   "metadata": {},
   "outputs": [],
   "source": [
    "# Construct dataframe manually\n",
    "penguins = [\n",
    "    (\"Adelie\",\"Biscoe\",37.8,18.3,174.0,3400,\"FEMALE\"),\n",
    "    (\"Adelie\",\"Biscoe\",37.7,18.7,180.0,3600,\"MALE\"),\n",
    "    (\"Adelie\",\"Biscoe\",35.9,19.2,189.0,3800,\"FEMALE\")]\n",
    "df_manual = spark.createDataFrame(penguins).toDF(\"Species\",\"Island\",\"bill_length_mm\",\"bill_depth_mm\",\"flipper_length_mm\",\"body_mass_g\",\"sex\")\n",
    "df_manual.printSchema()\n"
   ]
  }
 ],
 "metadata": {
  "kernelspec": {
   "display_name": "Python 3",
   "language": "python",
   "name": "python3"
  },
  "language_info": {
   "codemirror_mode": {
    "name": "ipython",
    "version": 3
   },
   "file_extension": ".py",
   "mimetype": "text/x-python",
   "name": "python",
   "nbconvert_exporter": "python",
   "pygments_lexer": "ipython3",
   "version": "3.10.6 (main, Nov 14 2022, 16:10:14) [GCC 11.3.0]"
  },
  "orig_nbformat": 4,
  "vscode": {
   "interpreter": {
    "hash": "916dbcbb3f70747c44a77c7bcd40155683ae19c65e1c03b4aa3499c5328201f1"
   }
  }
 },
 "nbformat": 4,
 "nbformat_minor": 2
}
