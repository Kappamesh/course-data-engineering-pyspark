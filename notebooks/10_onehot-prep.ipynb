{
 "cells": [
  {
   "cell_type": "code",
   "execution_count": null,
   "metadata": {},
   "outputs": [],
   "source": [
    "#Imports and load data\n",
    "from pyspark.sql import SparkSession\n",
    "from pyspark.ml.feature import StringIndexer, OneHotEncoder\n",
    "from pyspark.ml import Pipeline\n",
    "from pyspark.sql.functions import * # Needed for Filters like When, Like etc.\n",
    "\n",
    "spark = SparkSession.builder.appName(\"penguins\").master(\"local[4]\").getOrCreate()\n",
    "df_penguins = spark.read.csv(\"data/penguins.csv\",header=True,inferSchema=True)\n",
    "spark.sparkContext.setLogLevel(\"ERROR\")\n"
   ]
  },
  {
   "cell_type": "code",
   "execution_count": null,
   "metadata": {},
   "outputs": [],
   "source": [
    "df_penguins.show(3)"
   ]
  },
  {
   "cell_type": "code",
   "execution_count": null,
   "metadata": {},
   "outputs": [],
   "source": [
    "# create indexer object\n",
    "indexer = StringIndexer(inputCols=[\"sex\",\"island\",\"species\"], outputCols=[\"sex_index\",\"island_index\",\"species_index\"], handleInvalid='error', stringOrderType='frequencyDesc')\n",
    "\n",
    "# Fit the indexer on the data and transform the data\n",
    "df_penguins_indexed = indexer.fit(df_penguins).transform(df_penguins)\n",
    "\n",
    "df_clean = df_penguins_indexed.select(\n",
    "    \"bill_length_mm\",\n",
    "    \"bill_depth_mm\",\n",
    "    \"flipper_length_mm\",\n",
    "    \"body_mass_g\",\n",
    "    \"sex_index\",\n",
    "    \"island_index\",\n",
    "    \"species_index\")\n",
    "\n"
   ]
  },
  {
   "cell_type": "code",
   "execution_count": null,
   "metadata": {},
   "outputs": [],
   "source": [
    "df_clean.printSchema()"
   ]
  },
  {
   "cell_type": "code",
   "execution_count": null,
   "metadata": {},
   "outputs": [],
   "source": [
    "df_penguins_indexed.write.save(\"tmp.json\",format=\"json\")"
   ]
  },
  {
   "cell_type": "code",
   "execution_count": null,
   "metadata": {},
   "outputs": [],
   "source": [
    "encoder = OneHotEncoder(inputCols=[\"sex_index\"], outputCols=[\"sex_onehot\"])\n",
    "data = encoder.fit(df_clean).transform(df_clean)\n",
    "data.head(30)"
   ]
  },
  {
   "cell_type": "code",
   "execution_count": null,
   "metadata": {},
   "outputs": [],
   "source": [
    "from pyspark.ml.feature import StandardScaler, VectorAssembler\n",
    "assembler = [VectorAssembler(inputCols=[col], outputCol=col+'_vec') for col in ['bill_length_mm','bill_depth_mm','flipper_length_mm','body_mass_g']]\n",
    "scale = [StandardScaler(inputCol=col+'_vec', outputCol=col+'_scaled') for col in ['bill_length_mm','bill_depth_mm','flipper_length_mm','body_mass_g']]\n",
    "pipe = Pipeline(stages = assembler + scale)\n",
    "df_scale = pipe.fit(df_trans).transform(df_trans)"
   ]
  }
 ],
 "metadata": {
  "kernelspec": {
   "display_name": "Python 3",
   "language": "python",
   "name": "python3"
  },
  "language_info": {
   "codemirror_mode": {
    "name": "ipython",
    "version": 3
   },
   "file_extension": ".py",
   "mimetype": "text/x-python",
   "name": "python",
   "nbconvert_exporter": "python",
   "pygments_lexer": "ipython3",
   "version": "3.10.6 (main, Nov 14 2022, 16:10:14) [GCC 11.3.0]"
  },
  "orig_nbformat": 4,
  "vscode": {
   "interpreter": {
    "hash": "916dbcbb3f70747c44a77c7bcd40155683ae19c65e1c03b4aa3499c5328201f1"
   }
  }
 },
 "nbformat": 4,
 "nbformat_minor": 2
}
