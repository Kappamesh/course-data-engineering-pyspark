{
 "cells": [
  {
   "attachments": {},
   "cell_type": "markdown",
   "metadata": {},
   "source": [
    "### Grouping and Aggregation\n",
    "- GroupBy column\n",
    "- Aggregation operations"
   ]
  },
  {
   "cell_type": "markdown",
   "metadata": {},
   "source": []
  },
  {
   "cell_type": "code",
   "execution_count": null,
   "metadata": {},
   "outputs": [],
   "source": [
    "#Imports and load data\n",
    "from pyspark.sql import SparkSession\n",
    "from pyspark.sql import Window as W # Needed for windowing operations\n",
    "from pyspark.sql.functions import * # Needed for Filters like When, Like etc.\n",
    "\n",
    "\n",
    "spark = SparkSession.builder.appName(\"penguins\").master(\"local[4]\").getOrCreate()\n",
    "df_penguins = spark.read.csv(\"data/penguins.csv\",header=True,inferSchema=True)\n",
    "spark.sparkContext.setLogLevel(\"ERROR\")"
   ]
  },
  {
   "cell_type": "code",
   "execution_count": null,
   "metadata": {},
   "outputs": [],
   "source": [
    "#Grouping using groupBy\n",
    "df_penguins.groupBy(\"sex\").count().show()"
   ]
  },
  {
   "cell_type": "code",
   "execution_count": null,
   "metadata": {},
   "outputs": [],
   "source": [
    "#Aggregate on max\n",
    "df_penguins.groupBy(\"sex\").agg(max(\"bill_length_mm\").alias(\"max_BL\")).show()\n",
    "\n",
    "#Can do the same for min, mean, sum"
   ]
  },
  {
   "cell_type": "code",
   "execution_count": null,
   "metadata": {},
   "outputs": [],
   "source": [
    "#Collecting a set per group\n",
    "df_penguins.groupBy(\"island\").agg(collect_set(\"species\")).show()"
   ]
  },
  {
   "cell_type": "code",
   "execution_count": null,
   "metadata": {},
   "outputs": [],
   "source": [
    "#Windowing on Dataframes\n",
    "window = W.partitionBy(\"island\",\"species\")\n"
   ]
  }
 ],
 "metadata": {
  "kernelspec": {
   "display_name": "Python 3",
   "language": "python",
   "name": "python3"
  },
  "language_info": {
   "codemirror_mode": {
    "name": "ipython",
    "version": 3
   },
   "file_extension": ".py",
   "mimetype": "text/x-python",
   "name": "python",
   "nbconvert_exporter": "python",
   "pygments_lexer": "ipython3",
   "version": "3.10.6 (main, Nov 14 2022, 16:10:14) [GCC 11.3.0]"
  },
  "orig_nbformat": 4,
  "vscode": {
   "interpreter": {
    "hash": "916dbcbb3f70747c44a77c7bcd40155683ae19c65e1c03b4aa3499c5328201f1"
   }
  }
 },
 "nbformat": 4,
 "nbformat_minor": 2
}
